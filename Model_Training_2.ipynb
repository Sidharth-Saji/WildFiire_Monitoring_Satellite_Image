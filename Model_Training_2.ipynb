{
  "cells": [
    {
      "cell_type": "markdown",
      "metadata": {
        "id": "view-in-github",
        "colab_type": "text"
      },
      "source": [
        "<a href=\"https://colab.research.google.com/github/Sidharth-Saji/WildFire_Monitoring_Using_Satellite_Image/blob/main/Model_Training_2.ipynb\" target=\"_parent\"><img src=\"https://colab.research.google.com/assets/colab-badge.svg\" alt=\"Open In Colab\"/></a>"
      ]
    },
    {
      "cell_type": "markdown",
      "metadata": {
        "id": "H8gLCkNekVf2"
      },
      "source": [
        "## Importing Libraries"
      ]
    },
    {
      "cell_type": "code",
      "execution_count": null,
      "metadata": {
        "id": "raRxuf1tavVA"
      },
      "outputs": [],
      "source": [
        "import numpy as np\n",
        "import pandas as pd\n",
        "import os.path\n",
        "from pathlib import Path\n",
        "import matplotlib.pyplot as plt\n",
        "from tensorflow.keras import optimizers, regularizers\n",
        "from tensorflow.keras.models import Sequential\n",
        "from tensorflow.keras.layers import Dense, Flatten, Dropout, Conv2D, MaxPooling2D\n",
        "from tensorflow.keras.preprocessing.image import ImageDataGenerator\n",
        "from tensorflow.keras.callbacks import ModelCheckpoint, EarlyStopping\n",
        "import albumentations as A"
      ]
    },
    {
      "cell_type": "markdown",
      "metadata": {
        "id": "4_C7xM57kT9-"
      },
      "source": [
        "## Creating Dataframes"
      ]
    },
    {
      "cell_type": "code",
      "execution_count": null,
      "metadata": {
        "id": "ezSOyiE4VZ0E"
      },
      "outputs": [],
      "source": [
        "def create_df_img(filepath):\n",
        "    \"\"\" Create a DataFrame with the filepath and the labels of the pictures\n",
        "    \n",
        "    Args : filepath of the images\n",
        "    Return : pandas dataframe     \n",
        "    \"\"\"\n",
        "    labels = list(map(lambda x: os.path.split(os.path.split(x)[0])[1], filepath))\n",
        "    filepath = pd.Series(filepath, name='Filepath').astype(str)\n",
        "    labels = pd.Series(labels, name='Label')\n",
        "    df = pd.concat([filepath, labels], axis=1)\n",
        "    df = df.sample(frac=1).reset_index(drop = True)\n",
        "    return df"
      ]
    },
    {
      "cell_type": "code",
      "execution_count": null,
      "metadata": {
        "id": "dCsBYrS9VmcD"
      },
      "outputs": [],
      "source": [
        "train_dir = Path('train')\n",
        "filepaths = list(train_dir.glob(r'**/*.jpg'))\n",
        "val_dir = Path('train')\n",
        "filepaths_valid = list(val_dir.glob(r'**/*.jpg'))"
      ]
    },
    {
      "cell_type": "markdown",
      "metadata": {
        "id": "6Se7LUm-LuVw"
      },
      "source": [
        "### Checking if dataframe loaded correctly"
      ]
    },
    {
      "cell_type": "code",
      "execution_count": null,
      "metadata": {
        "colab": {
          "base_uri": "https://localhost:8080/",
          "height": 206
        },
        "id": "bz1LjQqGVwZ1",
        "outputId": "ed4f62bf-f03a-4856-f890-9457a2893893"
      },
      "outputs": [
        {
          "data": {
            "text/html": [
              "<div>\n",
              "<style scoped>\n",
              "    .dataframe tbody tr th:only-of-type {\n",
              "        vertical-align: middle;\n",
              "    }\n",
              "\n",
              "    .dataframe tbody tr th {\n",
              "        vertical-align: top;\n",
              "    }\n",
              "\n",
              "    .dataframe thead th {\n",
              "        text-align: right;\n",
              "    }\n",
              "</style>\n",
              "<table border=\"1\" class=\"dataframe\">\n",
              "  <thead>\n",
              "    <tr style=\"text-align: right;\">\n",
              "      <th></th>\n",
              "      <th>Filepath</th>\n",
              "      <th>Label</th>\n",
              "    </tr>\n",
              "  </thead>\n",
              "  <tbody>\n",
              "    <tr>\n",
              "      <th>0</th>\n",
              "      <td>train\\nowildfire\\-73.89897,45.474524.jpg</td>\n",
              "      <td>nowildfire</td>\n",
              "    </tr>\n",
              "    <tr>\n",
              "      <th>1</th>\n",
              "      <td>train\\nowildfire\\-73.444224,45.585472.jpg</td>\n",
              "      <td>nowildfire</td>\n",
              "    </tr>\n",
              "    <tr>\n",
              "      <th>2</th>\n",
              "      <td>train\\nowildfire\\-73.465388,45.584881.jpg</td>\n",
              "      <td>nowildfire</td>\n",
              "    </tr>\n",
              "    <tr>\n",
              "      <th>3</th>\n",
              "      <td>train\\nowildfire\\-73.455049,45.552418.jpg</td>\n",
              "      <td>nowildfire</td>\n",
              "    </tr>\n",
              "    <tr>\n",
              "      <th>4</th>\n",
              "      <td>train\\nowildfire\\-73.433861,45.472406.jpg</td>\n",
              "      <td>nowildfire</td>\n",
              "    </tr>\n",
              "  </tbody>\n",
              "</table>\n",
              "</div>"
            ],
            "text/plain": [
              "                                    Filepath       Label\n",
              "0   train\\nowildfire\\-73.89897,45.474524.jpg  nowildfire\n",
              "1  train\\nowildfire\\-73.444224,45.585472.jpg  nowildfire\n",
              "2  train\\nowildfire\\-73.465388,45.584881.jpg  nowildfire\n",
              "3  train\\nowildfire\\-73.455049,45.552418.jpg  nowildfire\n",
              "4  train\\nowildfire\\-73.433861,45.472406.jpg  nowildfire"
            ]
          },
          "execution_count": 4,
          "metadata": {},
          "output_type": "execute_result"
        }
      ],
      "source": [
        "df_train = create_df_img(filepaths)\n",
        "df_valid = create_df_img(filepaths_valid)\n",
        "df_train.head()\n",
        "df_valid.head()"
      ]
    },
    {
      "cell_type": "markdown",
      "metadata": {
        "id": "CHzCZVbRminH"
      },
      "source": [
        "#DATA AUGMENTATION "
      ]
    },
    {
      "cell_type": "code",
      "execution_count": null,
      "metadata": {
        "id": "o5Xl_bD4kx5O"
      },
      "outputs": [],
      "source": [
        "def augmentation_image(image):\n",
        "    \"\"\"\n",
        "    Function for Augmenting Images\n",
        "    \"\"\"\n",
        "    aug = A.Compose([\n",
        "        A.Flip(),\n",
        "        A.Rotate(limit=75,always_apply=True),\n",
        "    ])\n",
        "    augmented_image = aug(image=image)['image']\n",
        "    return augmented_image"
      ]
    },
    {
      "cell_type": "code",
      "execution_count": null,
      "metadata": {
        "colab": {
          "base_uri": "https://localhost:8080/"
        },
        "id": "KroCcfAJm35J",
        "outputId": "515cf2cc-6c6d-401e-abb8-4c29d4505af6"
      },
      "outputs": [
        {
          "name": "stdout",
          "output_type": "stream",
          "text": [
            "Found 206 validated image filenames belonging to 2 classes.\n",
            "Found 206 validated image filenames belonging to 2 classes.\n"
          ]
        }
      ],
      "source": [
        "BATCH_SIZE = 256\n",
        "# Creating Train Generator using Image Generator\n",
        "train_datagenerator = ImageDataGenerator(dtype='float32', rescale= 1./255., preprocessing_function=augmentation_image)\n",
        "train_generator = train_datagenerator.flow_from_dataframe(df_train,\n",
        "                                                    x_col='Filepath',\n",
        "                                                    y_col='Label',\n",
        "                                                    shuffle=True,\n",
        "                                                    batch_size = BATCH_SIZE,\n",
        "                                                    target_size = (350,350),\n",
        "                                                    class_mode = 'categorical')\n",
        "\n",
        "#Creating Validity Checker\n",
        "val_datagen = ImageDataGenerator(dtype='float32', rescale= 1./255.)\n",
        "val_generator = val_datagen.flow_from_dataframe(df_valid,\n",
        "                                                    x_col='Filepath',\n",
        "                                                    y_col='Label',\n",
        "                                                    shuffle=True,\n",
        "                                                    batch_size = BATCH_SIZE,\n",
        "                                                    target_size = (350,350),\n",
        "                                                    class_mode = 'categorical')"
      ]
    },
    {
      "cell_type": "markdown",
      "metadata": {
        "id": "CTERxNA3yVy3"
      },
      "source": [
        "# MODEL BUILDING"
      ]
    },
    {
      "cell_type": "code",
      "execution_count": null,
      "metadata": {
        "colab": {
          "base_uri": "https://localhost:8080/"
        },
        "id": "wNTwfl4GLf_Q",
        "outputId": "b0f5bc20-8d6e-4b94-9bdb-d0dba77da64a"
      },
      "outputs": [
        {
          "name": "stdout",
          "output_type": "stream",
          "text": [
            "Model: \"sequential\"\n",
            "_________________________________________________________________\n",
            " Layer (type)                Output Shape              Param #   \n",
            "=================================================================\n",
            " conv2d (Conv2D)             (None, 349, 349, 8)       104       \n",
            "                                                                 \n",
            " max_pooling2d (MaxPooling2D  (None, 174, 174, 8)      0         \n",
            " )                                                               \n",
            "                                                                 \n",
            " conv2d_1 (Conv2D)           (None, 173, 173, 16)      528       \n",
            "                                                                 \n",
            " max_pooling2d_1 (MaxPooling  (None, 86, 86, 16)       0         \n",
            " 2D)                                                             \n",
            "                                                                 \n",
            " conv2d_2 (Conv2D)           (None, 85, 85, 32)        2080      \n",
            "                                                                 \n",
            " max_pooling2d_2 (MaxPooling  (None, 42, 42, 32)       0         \n",
            " 2D)                                                             \n",
            "                                                                 \n",
            " flatten (Flatten)           (None, 56448)             0         \n",
            "                                                                 \n",
            " dense (Dense)               (None, 300)               16934700  \n",
            "                                                                 \n",
            " dropout (Dropout)           (None, 300)               0         \n",
            "                                                                 \n",
            " dense_1 (Dense)             (None, 100)               30100     \n",
            "                                                                 \n",
            " dropout_1 (Dropout)         (None, 100)               0         \n",
            "                                                                 \n",
            " dense_2 (Dense)             (None, 2)                 202       \n",
            "                                                                 \n",
            "=================================================================\n",
            "Total params: 16,967,714\n",
            "Trainable params: 16,967,714\n",
            "Non-trainable params: 0\n",
            "_________________________________________________________________\n"
          ]
        }
      ],
      "source": [
        "shrink = 1e-3 \n",
        "image_shape=plt.imread(df_train[\"Filepath\"][0]).shape\n",
        "model = Sequential([\n",
        "    Conv2D(filters = 8 , kernel_size = 2, activation = 'relu', \n",
        "    input_shape = image_shape), MaxPooling2D(pool_size = 2),\n",
        "    \n",
        "    Conv2D(filters = 16 , kernel_size = 2, activation = 'relu', \n",
        "    input_shape = image_shape), MaxPooling2D(pool_size = 2),\n",
        "    \n",
        "    Conv2D(filters = 32 , kernel_size = 2, activation = 'relu',\n",
        "           kernel_regularizer = regularizers.l2(shrink)),\n",
        "    MaxPooling2D(pool_size = 2),\n",
        "    \n",
        "    \n",
        "    Flatten(),\n",
        "    Dense(300,activation='relu'),\n",
        "    Dropout(0.5),\n",
        "    Dense(100,activation='relu'),\n",
        "    Dropout(0.4),\n",
        "    Dense(2,activation='softmax')\n",
        "])\n",
        "model.summary()"
      ]
    },
    {
      "cell_type": "code",
      "execution_count": null,
      "metadata": {
        "colab": {
          "base_uri": "https://localhost:8080/"
        },
        "id": "lex-FeaEUicZ",
        "outputId": "a313fff0-624f-49ae-89d6-1722755a5fbc"
      },
      "outputs": [
        {
          "name": "stdout",
          "output_type": "stream",
          "text": [
            "1/1 [==============================] - ETA: 0s - loss: 2.0095 - auc: 0.5683 - acc: 0.5777\n",
            "Epoch 1: val_loss improved from inf to 5.58305, saving model to model.hdf5\n",
            "1/1 [==============================] - 19s 19s/step - loss: 2.0095 - auc: 0.5683 - acc: 0.5777 - val_loss: 5.5831 - val_auc: 0.5073 - val_acc: 0.5000\n"
          ]
        }
      ],
      "source": [
        "from PIL import ImageFile\n",
        "ImageFile.LOAD_TRUNCATED_IMAGES = True\n",
        "\n",
        "checkpointer = ModelCheckpoint('model.hdf5',verbose=1, save_best_only= True)\n",
        "\n",
        "early_stopping = EarlyStopping(monitor= 'val_loss', patience= 10)\n",
        "\n",
        "optimizer = optimizers.Adam(learning_rate= 0.00001, weight_decay= 1e-5)\n",
        "\n",
        "checkpointer = ModelCheckpoint('model.hdf5',verbose=1, save_best_only= True)\n",
        "\n",
        "early_stopping = EarlyStopping(monitor= 'val_loss', patience= 10)\n",
        "\n",
        "optimizer = optimizers.Adam(learning_rate= 0.00001, weight_decay= 1e-5)\n",
        "\n",
        "model.compile(loss= 'categorical_crossentropy', optimizer= 'adam',\n",
        "                    metrics=['AUC','acc'])\n",
        "\n",
        "\n",
        "history = model.fit(train_generator,\n",
        "                    epochs = 100,\n",
        "                    verbose = 1,\n",
        "                    validation_data = val_generator,\n",
        "                    callbacks = [checkpointer, early_stopping])"
      ]
    },
    {
      "cell_type": "code",
      "execution_count": null,
      "metadata": {
        "id": "umxjIphf_t0h"
      },
      "outputs": [],
      "source": [
        "model.save('WildFireDetector.h5')"
      ]
    }
  ],
  "metadata": {
    "colab": {
      "provenance": [],
      "include_colab_link": true
    },
    "kernelspec": {
      "display_name": "Python 3",
      "name": "python3"
    },
    "language_info": {
      "codemirror_mode": {
        "name": "ipython",
        "version": 3
      },
      "file_extension": ".py",
      "mimetype": "text/x-python",
      "name": "python",
      "nbconvert_exporter": "python",
      "pygments_lexer": "ipython3",
      "version": "3.11.2"
    }
  },
  "nbformat": 4,
  "nbformat_minor": 0
}